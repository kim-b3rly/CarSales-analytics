{
 "cells": [
  {
   "cell_type": "markdown",
   "id": "038fe9df",
   "metadata": {},
   "source": [
    "### Importing modules "
   ]
  },
  {
   "cell_type": "code",
   "execution_count": null,
   "id": "2d5702aa",
   "metadata": {},
   "outputs": [],
   "source": [
    "import csv"
   ]
  },
  {
   "cell_type": "code",
   "execution_count": null,
   "id": "b9787c22",
   "metadata": {},
   "outputs": [],
   "source": [
    "#User prompt to enter file path\n",
    "\n",
    "user_path= input(\"Enter file path to begin: \")\n",
    "\n",
    "try:\n",
    "    with open(user_path) as car_file:\n",
    "        # Read a csv file\n",
    "        csv_reader = csv.reader(car_file)\n",
    "        \n",
    "        # Display a list of values for each line in the file\n",
    "        for row in csv_reader:\n",
    "            print(row)\n",
    "        \n",
    "except IOError:\n",
    "     user_path= input(\"File does not exist, please try again: \")\n",
    "        \n",
    "    \n",
    "    \n",
    "\n",
    "        \n"
   ]
  },
  {
   "cell_type": "code",
   "execution_count": null,
   "id": "fc612e6e",
   "metadata": {},
   "outputs": [],
   "source": []
  },
  {
   "cell_type": "code",
   "execution_count": null,
   "id": "483a528d",
   "metadata": {},
   "outputs": [],
   "source": []
  }
 ],
 "metadata": {
  "kernelspec": {
   "display_name": "Python 3 (ipykernel)",
   "language": "python",
   "name": "python3"
  },
  "language_info": {
   "codemirror_mode": {
    "name": "ipython",
    "version": 3
   },
   "file_extension": ".py",
   "mimetype": "text/x-python",
   "name": "python",
   "nbconvert_exporter": "python",
   "pygments_lexer": "ipython3",
   "version": "3.9.13"
  }
 },
 "nbformat": 4,
 "nbformat_minor": 5
}
